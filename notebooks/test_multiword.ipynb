{
 "cells": [
  {
   "cell_type": "code",
   "execution_count": 1,
   "metadata": {},
   "outputs": [],
   "source": [
    "import sys\n",
    "sys.path.append('..')\n",
    "import pandas as pd\n",
    "from genbit.genbit_metrics import GenBitMetrics"
   ]
  },
  {
   "cell_type": "code",
   "execution_count": 8,
   "metadata": {},
   "outputs": [
    {
     "name": "stdout",
     "output_type": "stream",
     "text": [
      "genbit_score:\t0.2231435513142097\n",
      "percentage_of_female_gender_definition_words:\t0.0\n",
      "percentage_of_male_gender_definition_words:\t0.5\n",
      "percentage_of_non_binary_gender_definition_words:\t0.5\n",
      "additional_metrics:\t{'avg_bias_ratio': 0.0, 'avg_bias_conditional': -0.2231435513142097, 'avg_bias_ratio_absolute': 0.0, 'avg_bias_conditional_absolute': 0.2231435513142097, 'avg_non_binary_bias_ratio': 0.02531780798429, 'avg_non_binary_bias_conditional': 0.14310084364067324, 'avg_non_binary_bias_ratio_absolute': 0.02531780798429, 'avg_non_binary_bias_conditional_absolute': 0.14310084364067324, 'std_dev_bias_ratio': 0.0, 'std_dev_bias_conditional': 0.0, 'std_dev_non_binary_bias_ratio': 0.0, 'std_dev_non_binary_bias_conditional': 0.0}\n",
      "statistics:\t{'frequency_cutoff': 3.95, 'num_words_considered': 2, 'freq_of_female_gender_definition_words': 0, 'freq_of_male_gender_definition_words': 1, 'freq_of_non_binary_gender_definition_words': 1, 'jsd': 0.0}\n"
     ]
    }
   ],
   "source": [
    "metric = GenBitMetrics('en')\n",
    "# \"gender non-conforming\" is in en/non-binary.txt\n",
    "metric.add_data(\"happiness is being gender non-conforming and expressing yourself\", tokenized=False)\n",
    "metric.add_data(\"this is about my father-in-law\")\n",
    "\n",
    "for k,v in metric.get_metrics(output_statistics=True, output_word_list=False).items():\n",
    "    print(f'{k}:\\t{v}')"
   ]
  }
 ],
 "metadata": {
  "interpreter": {
   "hash": "060549fb1338020bc38eabec691e0969ebae41046fd4b282bbf65cc87786216e"
  },
  "kernelspec": {
   "display_name": "Python 3.9.7 ('base')",
   "language": "python",
   "name": "python3"
  },
  "language_info": {
   "codemirror_mode": {
    "name": "ipython",
    "version": 3
   },
   "file_extension": ".py",
   "mimetype": "text/x-python",
   "name": "python",
   "nbconvert_exporter": "python",
   "pygments_lexer": "ipython3",
   "version": "3.9.7"
  },
  "orig_nbformat": 4
 },
 "nbformat": 4,
 "nbformat_minor": 2
}
