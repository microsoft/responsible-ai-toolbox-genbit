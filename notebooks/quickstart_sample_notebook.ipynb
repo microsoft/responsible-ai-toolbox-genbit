{
 "cells": [
  {
   "cell_type": "markdown",
   "metadata": {},
   "source": [
    "##  Genbit Sample Notebook\n",
    "\n",
    "### The notebook is intended to provide quick start for users to build on top of the GenBit API."
   ]
  },
  {
   "cell_type": "markdown",
   "metadata": {},
   "source": [
    "## Install Genbit   "
   ]
  },
  {
   "cell_type": "code",
   "execution_count": null,
   "metadata": {},
   "outputs": [],
   "source": [
    "!pip install genbit"
   ]
  },
  {
   "cell_type": "markdown",
   "metadata": {},
   "source": [
    "### Import utilities"
   ]
  },
  {
   "cell_type": "code",
   "execution_count": 6,
   "metadata": {},
   "outputs": [],
   "source": [
    "import pprint\n",
    "import genbit\n",
    "from genbit.genbit_metrics import GenBitMetrics"
   ]
  },
  {
   "cell_type": "markdown",
   "metadata": {},
   "source": [
    "### Specify Filename Location and Language  \n",
    "(Accepted codes: EN,IT, RU, FR, DE and ES)"
   ]
  },
  {
   "cell_type": "code",
   "execution_count": 42,
   "metadata": {},
   "outputs": [],
   "source": [
    "input_file = \"sample_100.tsv\"\n",
    "language = \"en\""
   ]
  },
  {
   "cell_type": "code",
   "execution_count": 43,
   "metadata": {},
   "outputs": [],
   "source": [
    "metric = GenBitMetrics(language, context_window=30, distance_weight=0.95,\n",
    "                 percentile_cutoff=80)"
   ]
  },
  {
   "cell_type": "code",
   "execution_count": 44,
   "metadata": {},
   "outputs": [],
   "source": [
    "contiguous = False\n",
    "data = []\n",
    "with open(input_file, \"r\", encoding=\"utf-8\") as input_sentence_file:\n",
    "    for line in input_sentence_file:\n",
    "        if(contiguous):\n",
    "            line = line.strip()\n",
    "            data.append(line)\n",
    "        else:\n",
    "            data = []\n",
    "            line = line.strip()\n",
    "            data.append(line)\n",
    "            metric.add_data(data, tokenized=False)\n",
    "if(contiguous):\n",
    "    metric.add_data(data, tokenized=False)"
   ]
  },
  {
   "cell_type": "code",
   "execution_count": 45,
   "metadata": {},
   "outputs": [],
   "source": [
    "metrics = metric.get_metrics(output_statistics=True, output_word_list=False)"
   ]
  },
  {
   "cell_type": "markdown",
   "metadata": {},
   "source": [
    "### Print the results\n",
    "The results using the test file should show a heavy non-binary bias as many terms in the sample file are gender 'neutral' or explicitly non-binary. You will also observe that in the case of binary bias, there is a slight male-leaning bias due to the more frequently occure male gender definition words throughout the samples in the data."
   ]
  },
  {
   "cell_type": "code",
   "execution_count": 46,
   "metadata": {},
   "outputs": [
    {
     "name": "stdout",
     "output_type": "stream",
     "text": [
      "{'additional_metrics': {'avg_bias_conditional': -0.03408793873500453,\n",
      "                        'avg_bias_conditional_absolute': 0.21136226833284888,\n",
      "                        'avg_bias_ratio': -0.013720635910570779,\n",
      "                        'avg_bias_ratio_absolute': 0.20659960523309384,\n",
      "                        'avg_non_binary_bias_conditional': 0.6686957743179468,\n",
      "                        'avg_non_binary_bias_conditional_absolute': 0.7000381293796363,\n",
      "                        'avg_non_binary_bias_ratio': 0.5229287558226876,\n",
      "                        'avg_non_binary_bias_ratio_absolute': 0.5920022700905334,\n",
      "                        'std_dev_bias_conditional': 0.439433185699777,\n",
      "                        'std_dev_bias_ratio': 0.43943318569977696,\n",
      "                        'std_dev_non_binary_bias_conditional': 0.516392943941314,\n",
      "                        'std_dev_non_binary_bias_ratio': 0.5164280054168683},\n",
      " 'genbit_score': 0.21136226833284888,\n",
      " 'percentage_of_female_gender_definition_words': 0.2663755458515284,\n",
      " 'percentage_of_male_gender_definition_words': 0.28820960698689957,\n",
      " 'percentage_of_non_binary_gender_definition_words': 0.44541484716157204,\n",
      " 'statistics': {'freq_of_female_gender_definition_words': 61,\n",
      "                'freq_of_male_gender_definition_words': 66,\n",
      "                'freq_of_non_binary_gender_definition_words': 102,\n",
      "                'frequency_cutoff': 10.383851250000001,\n",
      "                'jsd': 0.0352441560704639,\n",
      "                'num_words_considered': 23}}\n"
     ]
    }
   ],
   "source": [
    "pprint.pprint(metrics)"
   ]
  },
  {
   "cell_type": "markdown",
   "metadata": {},
   "source": [
    "###  ----- END -------- "
   ]
  }
 ],
 "metadata": {
  "kernelspec": {
   "display_name": "Python 3.7.4 64-bit",
   "language": "python",
   "name": "python3"
  },
  "language_info": {
   "codemirror_mode": {
    "name": "ipython",
    "version": 3
   },
   "file_extension": ".py",
   "mimetype": "text/x-python",
   "name": "python",
   "nbconvert_exporter": "python",
   "pygments_lexer": "ipython3",
   "version": "3.7.4"
  },
  "vscode": {
   "interpreter": {
    "hash": "c4c9c2217c4bfe78787fc58d5a1d89949f3cc677077c7eb9a266b59c8b60ec1e"
   }
  }
 },
 "nbformat": 4,
 "nbformat_minor": 4
}
